{
  "nbformat": 4,
  "nbformat_minor": 0,
  "metadata": {
    "colab": {
      "name": "resnet50_tensorflow.ipynb",
      "provenance": [],
      "collapsed_sections": [],
      "authorship_tag": "ABX9TyN+cyMPih9gOFl2uw6xwJhU",
      "include_colab_link": true
    },
    "kernelspec": {
      "name": "python3",
      "display_name": "Python 3"
    },
    "language_info": {
      "name": "python"
    }
  },
  "cells": [
    {
      "cell_type": "markdown",
      "metadata": {
        "id": "view-in-github",
        "colab_type": "text"
      },
      "source": [
        "<a href=\"https://colab.research.google.com/github/ThijsVercammen/Masterproef/blob/main/resnet50_tensorflow.ipynb\" target=\"_parent\"><img src=\"https://colab.research.google.com/assets/colab-badge.svg\" alt=\"Open In Colab\"/></a>"
      ]
    },
    {
      "cell_type": "markdown",
      "source": [
        "Installeer nodige tools"
      ],
      "metadata": {
        "id": "FfO9GCDDvjB2"
      }
    },
    {
      "cell_type": "code",
      "metadata": {
        "id": "yAERPAthilW3"
      },
      "source": [
        "!pip install tflite-support\n",
        "!pip install onnxruntime\n",
        "!pip install -U tf2onnx\n",
        "#!pip install git+https://github.com/onnx/tensorflow-onnx\n",
        "!pip install tensorflow-datasets\n",
        "!wget https://machinelearningmastery.com/wp-content/uploads/2019/03/zebra.jpg"
      ],
      "execution_count": null,
      "outputs": []
    },
    {
      "cell_type": "markdown",
      "source": [
        "Importeer de nodige bibliotheken"
      ],
      "metadata": {
        "id": "PLcJepeYvoZ6"
      }
    },
    {
      "cell_type": "code",
      "metadata": {
        "id": "-zXokFzHZDWF"
      },
      "source": [
        "import numpy as np\n",
        "import time\n",
        "import os\n",
        "\n",
        "import PIL.Image as Image\n",
        "import matplotlib.pylab as plt\n",
        "\n",
        "import tensorflow as tf\n",
        "import tensorflow_hub as hub\n",
        "\n",
        "import datetime\n",
        "from datetime import datetime\n",
        "\n",
        "from tensorflow.keras.utils import plot_model\n"
      ],
      "execution_count": null,
      "outputs": []
    },
    {
      "cell_type": "markdown",
      "source": [
        "Inladen van het ResNet50 model en dit converteren naar TFLite"
      ],
      "metadata": {
        "id": "0CqSFBEfvuqK"
      }
    },
    {
      "cell_type": "code",
      "source": [
        "model = tf.keras.applications.resnet50.ResNet50()\n",
        "model.save('./model')\n",
        "model.save(\"mod.h5\")\n",
        "\n",
        "converter = tf.lite.TFLiteConverter.from_keras_model(model)\n",
        "tflite_model = converter.convert()\n",
        "open('model.tflite', 'wb').write(tflite_model)\n",
        "\n",
        "#plot_model(model, to_file='model.png')"
      ],
      "metadata": {
        "id": "ahY4r8B0dLxP"
      },
      "execution_count": null,
      "outputs": []
    },
    {
      "cell_type": "markdown",
      "source": [
        "Test model op testafbeelding"
      ],
      "metadata": {
        "id": "lhPcb6mPv4Bc"
      }
    },
    {
      "cell_type": "code",
      "metadata": {
        "colab": {
          "base_uri": "https://localhost:8080/"
        },
        "id": "mrvk7HTf7Nic",
        "outputId": "ca01aa7d-a98f-4d10-fdf4-440102d05a22"
      },
      "source": [
        "from PIL import Image\n",
        "\n",
        "im = Image.open(\"./zebra.jpg\")\n",
        "res_im = im.resize((416, 416))\n",
        "np_res_im = np.array(res_im, dtype=np.float32)\n",
        "\n",
        "now = datetime.now()\n",
        "\n",
        "img_array = tf.expand_dims(np_res_im, 0) # Create a batch\n",
        "now = datetime.now()\n",
        "predictions = model.predict(img_array)\n",
        "score = tf.nn.softmax(predictions)\n",
        "#print(predictions)\n",
        "print(datetime.now()-now)\n",
        "\n",
        "print(\n",
        "    \"This image most likely belongs to {}.\"\n",
        "    .format([np.argmax(predictions)])\n",
        ")"
      ],
      "execution_count": null,
      "outputs": [
        {
          "output_type": "stream",
          "name": "stdout",
          "text": [
            "0:00:01.410698\n",
            "This image most likely belongs to [340].\n"
          ]
        }
      ]
    },
    {
      "cell_type": "markdown",
      "source": [
        "Test TFLite model op testafbeelding"
      ],
      "metadata": {
        "id": "xk42Jhw-v8fE"
      }
    },
    {
      "cell_type": "code",
      "metadata": {
        "id": "UD4Dk3kqC4p-",
        "colab": {
          "base_uri": "https://localhost:8080/"
        },
        "outputId": "c596e37d-f4f3-4939-9cb3-1b69359e8f97"
      },
      "source": [
        "from PIL import Image\n",
        "\n",
        "im = Image.open(\"zebra.jpg\")\n",
        "interpreter = tf.lite.Interpreter(model_path=\"./model.tflite\")\n",
        "interpreter.allocate_tensors()\n",
        "det = interpreter.get_signature_list()\n",
        "# Get input and output tensors.\n",
        "input_details = interpreter.get_input_details()\n",
        "output_details = interpreter.get_output_details()\n",
        "\n",
        "res_im = im.resize((416, 416))\n",
        "input_data = np.asarray(res_im, dtype=np.float32)\n",
        "\n",
        "interpreter.set_tensor(input_details[0]['index'], [input_data])\n",
        "now = datetime.now()\n",
        "interpreter.invoke()\n",
        "print(datetime.now()-now)\n",
        "output_data = interpreter.get_tensor(output_details[0]['index'])\n",
        "#print(output_data)\n",
        "\n",
        "print(np.argmax(output_data))"
      ],
      "execution_count": null,
      "outputs": [
        {
          "output_type": "stream",
          "name": "stdout",
          "text": [
            "0:00:00.448454\n",
            "340\n"
          ]
        }
      ]
    },
    {
      "cell_type": "markdown",
      "source": [
        "Voeg Metadata toe aan het model\n",
        "( labels.txt met imagenet labels moet eerst worden geupload)"
      ],
      "metadata": {
        "id": "GJn1Fco3wL5g"
      }
    },
    {
      "cell_type": "code",
      "metadata": {
        "id": "R9Oaf8Np8awP"
      },
      "source": [
        "from tflite_support.metadata_writers import image_classifier\n",
        "from tflite_support.metadata_writers import writer_utils\n",
        "\n",
        "ImageClassifierWriter = image_classifier.MetadataWriter\n",
        "model_p = \"./model.tflite\" # TFLite model\n",
        "label_p = \"./labels.txt\" # label file voor label formaat\n",
        "save_p = \"./model_meta.tflite\" # opslaan pad\n",
        "input_norm_mean = 0.0\n",
        "input_norm_std = 1.0\n",
        "\n",
        "# metadata scrijver\n",
        "writer = ImageClassifierWriter.create_for_inference(\n",
        "    writer_utils.load_file(model_p), [input_norm_mean], [input_norm_std],\n",
        "    [label_p])\n",
        "\n",
        "# Voeg metadata aan het model toe en sla op\n",
        "writer_utils.save_file(writer.populate(), save_p)"
      ],
      "execution_count": null,
      "outputs": []
    },
    {
      "cell_type": "markdown",
      "source": [
        "Converteer naar ONNX via standaard of TFLite model"
      ],
      "metadata": {
        "id": "b4syIFytwQDD"
      }
    },
    {
      "cell_type": "code",
      "metadata": {
        "id": "JBWXh1plAkfU"
      },
      "source": [
        "!python -m tf2onnx.convert --saved-model ./model --output model.onnx\n",
        "#!python -m tf2onnx.convert --tflite ./model.tflite --output model_lite.onnx"
      ],
      "execution_count": null,
      "outputs": []
    },
    {
      "cell_type": "markdown",
      "source": [
        "Test ONNX model met testafbeelding"
      ],
      "metadata": {
        "id": "WtFea3dkwaET"
      }
    },
    {
      "cell_type": "code",
      "metadata": {
        "colab": {
          "base_uri": "https://localhost:8080/"
        },
        "id": "GEPh9EO4J4kC",
        "outputId": "b3bcfd5f-adb0-4129-9038-e131d9784fbd"
      },
      "source": [
        "import onnx\n",
        "import onnxruntime as ort\n",
        "im = Image.open(\"/content/zebra.jpg\")\n",
        "res_im = im.resize((416, 416))\n",
        "input_data = np.asarray(res_im, dtype=np.float32)\n",
        "\n",
        "print(input_data.shape)\n",
        "#a = tf.reshape(input_data, [1,160,160,3])\n",
        "ort_session = ort.InferenceSession(\"model.onnx\")\n",
        "now = datetime.now()\n",
        "outputs = ort_session.run(\n",
        "    None,\n",
        "    {\"input_1\": [input_data]},\n",
        ")\n",
        "print(datetime.now()-now)\n",
        "print(np.argmax(outputs))\n"
      ],
      "execution_count": null,
      "outputs": [
        {
          "output_type": "stream",
          "name": "stdout",
          "text": [
            "(224, 224, 3)\n",
            "0:00:00.142570\n",
            "340\n"
          ]
        }
      ]
    },
    {
      "cell_type": "markdown",
      "source": [
        "Evalueer het Standaard, TFLite en ONNX model"
      ],
      "metadata": {
        "id": "IFO7nS74wz4-"
      }
    },
    {
      "cell_type": "code",
      "source": [
        "import tensorflow_datasets as tfds\n",
        "from tensorflow_datasets.core import dataset_utils\n",
        "from tensorflow.keras.preprocessing import image\n",
        "from tensorflow.keras.applications.resnet50 import preprocess_input, decode_predictions\n",
        "import onnx\n",
        "import onnxruntime as ort\n",
        "\n",
        "ds_test, info = tfds.load('imagenet_v2', split='test',  with_info=True)\n",
        "interpreter = tf.lite.Interpreter(model_path=\"./model.tflite\")\n",
        "ort_session = ort.InferenceSession(\"model.onnx\")\n",
        "\n",
        "interpreter.allocate_tensors()\n",
        "det = interpreter.get_signature_list()\n",
        "# Get input and output tensors.\n",
        "input_details = interpreter.get_input_details()\n",
        "output_details = interpreter.get_output_details()\n",
        "\n",
        "#tfds.as_dataframe(ds_test.take(4), info)\n",
        "val1 = 0\n",
        "val2 = 0\n",
        "val3 = 0\n",
        "\n",
        "examples = list(dataset_utils.as_numpy(ds_test.take(9990)))\n",
        "for i, ex in enumerate(examples):\n",
        "  # process input data\n",
        "  a = tf.keras.layers.CenterCrop(224, 224)(ex['image'])\n",
        "  x = np.expand_dims(a, axis=0)\n",
        "  y = np.copy(x)\n",
        "  z = preprocess_input(y)\n",
        "\n",
        "  # voorspel top 1 resultaat\n",
        "  predicted_batch = model.predict(z)\n",
        "  res1 = np.argmax(predicted_batch)\n",
        "\n",
        "  interpreter.set_tensor(input_details[0]['index'], z)\n",
        "  interpreter.invoke()\n",
        "  output_data = interpreter.get_tensor(output_details[0]['index'])\n",
        "  res2 = np.argmax(output_data)\n",
        "\n",
        "  outputs = ort_session.run(None, {\"input_1\": z})\n",
        "  res3 = np.argmax(outputs)\n",
        "\n",
        "  #print(\"{} - {}\".format(res2, ex['label']))\n",
        "  # vergelijk labels\n",
        "  if res1 == ex['label']:\n",
        "    val1 += 1\n",
        "  if res2 == ex['label']:\n",
        "    val2 += 1\n",
        "  if res3 == ex['label']:\n",
        "    val3 += 1\n",
        "\n",
        "print(\"Standaard model precisie:  {}\".format(val1))\n",
        "print(\"TFLite model precisie:     {}\".format(val2))\n",
        "print(\"ONNX model precisie:       {}\".format(val3))\n",
        "#predicted_id = tf.math.argmax(predicted_batch, axis=-1)\n",
        "#predicted_label_batch = class_names[predicted_id]\n",
        "#print(predicted_label_batch)"
      ],
      "metadata": {
        "id": "7YN4RBbn0jUv"
      },
      "execution_count": null,
      "outputs": []
    }
  ]
}